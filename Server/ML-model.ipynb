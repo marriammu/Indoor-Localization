{
 "cells": [
  {
   "cell_type": "code",
   "execution_count": 92,
   "id": "f796914d",
   "metadata": {},
   "outputs": [],
   "source": [
    "# Basic Importations \n",
    "import pandas as pd \n",
    "import numpy as np\n",
    "import os\n",
    "\n",
    "# Importations \n",
    "from sklearn.model_selection import train_test_split, GridSearchCV, cross_validate\n",
    "from sklearn.linear_model import LogisticRegression\n",
    "from sklearn.neighbors import KNeighborsClassifier\n",
    "from sklearn.naive_bayes import GaussianNB\n",
    "from sklearn.tree import DecisionTreeClassifier\n",
    "from sklearn.ensemble import RandomForestClassifier\n",
    "from sklearn.ensemble import AdaBoostClassifier\n",
    "from sklearn import datasets\n",
    "from sklearn.svm import SVC\n",
    "from sklearn.metrics import precision_score, recall_score, confusion_matrix, roc_auc_score, classification_report"
   ]
  },
  {
   "cell_type": "code",
   "execution_count": 94,
   "id": "d8ae8d9b",
   "metadata": {
    "scrolled": true
   },
   "outputs": [
    {
     "name": "stdout",
     "output_type": "stream",
     "text": [
      "960\n"
     ]
    }
   ],
   "source": [
    "df = pd.read_csv('data2.csv',delimiter=',')\n",
    "print(len(df))"
   ]
  },
  {
   "cell_type": "code",
   "execution_count": 95,
   "id": "5e7857c8",
   "metadata": {},
   "outputs": [
    {
     "data": {
      "text/html": [
       "<div>\n",
       "<style scoped>\n",
       "    .dataframe tbody tr th:only-of-type {\n",
       "        vertical-align: middle;\n",
       "    }\n",
       "\n",
       "    .dataframe tbody tr th {\n",
       "        vertical-align: top;\n",
       "    }\n",
       "\n",
       "    .dataframe thead th {\n",
       "        text-align: right;\n",
       "    }\n",
       "</style>\n",
       "<table border=\"1\" class=\"dataframe\">\n",
       "  <thead>\n",
       "    <tr style=\"text-align: right;\">\n",
       "      <th></th>\n",
       "      <th>MO</th>\n",
       "      <th>EL-lab</th>\n",
       "      <th>El-modarag</th>\n",
       "      <th>Hew</th>\n",
       "      <th>WE_99EDC6</th>\n",
       "      <th>medhat</th>\n",
       "      <th>location</th>\n",
       "    </tr>\n",
       "  </thead>\n",
       "  <tbody>\n",
       "    <tr>\n",
       "      <th>0</th>\n",
       "      <td>-100</td>\n",
       "      <td>-100</td>\n",
       "      <td>-63</td>\n",
       "      <td>-62</td>\n",
       "      <td>-100</td>\n",
       "      <td>-100</td>\n",
       "      <td>modarag_cor</td>\n",
       "    </tr>\n",
       "    <tr>\n",
       "      <th>1</th>\n",
       "      <td>-100</td>\n",
       "      <td>-100</td>\n",
       "      <td>-64</td>\n",
       "      <td>-63</td>\n",
       "      <td>-100</td>\n",
       "      <td>-100</td>\n",
       "      <td>modarag_cor</td>\n",
       "    </tr>\n",
       "    <tr>\n",
       "      <th>2</th>\n",
       "      <td>-100</td>\n",
       "      <td>-100</td>\n",
       "      <td>-79</td>\n",
       "      <td>-61</td>\n",
       "      <td>-100</td>\n",
       "      <td>-85</td>\n",
       "      <td>modarag_cor</td>\n",
       "    </tr>\n",
       "    <tr>\n",
       "      <th>3</th>\n",
       "      <td>-100</td>\n",
       "      <td>-100</td>\n",
       "      <td>-68</td>\n",
       "      <td>-65</td>\n",
       "      <td>-100</td>\n",
       "      <td>-86</td>\n",
       "      <td>modarag_cor</td>\n",
       "    </tr>\n",
       "    <tr>\n",
       "      <th>4</th>\n",
       "      <td>-100</td>\n",
       "      <td>-100</td>\n",
       "      <td>-71</td>\n",
       "      <td>-51</td>\n",
       "      <td>-100</td>\n",
       "      <td>-88</td>\n",
       "      <td>modarag_cor</td>\n",
       "    </tr>\n",
       "    <tr>\n",
       "      <th>...</th>\n",
       "      <td>...</td>\n",
       "      <td>...</td>\n",
       "      <td>...</td>\n",
       "      <td>...</td>\n",
       "      <td>...</td>\n",
       "      <td>...</td>\n",
       "      <td>...</td>\n",
       "    </tr>\n",
       "    <tr>\n",
       "      <th>955</th>\n",
       "      <td>-100</td>\n",
       "      <td>-100</td>\n",
       "      <td>-100</td>\n",
       "      <td>-86</td>\n",
       "      <td>-100</td>\n",
       "      <td>-100</td>\n",
       "      <td>modarag</td>\n",
       "    </tr>\n",
       "    <tr>\n",
       "      <th>956</th>\n",
       "      <td>-100</td>\n",
       "      <td>-100</td>\n",
       "      <td>-100</td>\n",
       "      <td>-78</td>\n",
       "      <td>-100</td>\n",
       "      <td>-100</td>\n",
       "      <td>modarag</td>\n",
       "    </tr>\n",
       "    <tr>\n",
       "      <th>957</th>\n",
       "      <td>-100</td>\n",
       "      <td>-100</td>\n",
       "      <td>-52</td>\n",
       "      <td>-90</td>\n",
       "      <td>-100</td>\n",
       "      <td>-100</td>\n",
       "      <td>modarag</td>\n",
       "    </tr>\n",
       "    <tr>\n",
       "      <th>958</th>\n",
       "      <td>-89</td>\n",
       "      <td>-100</td>\n",
       "      <td>-57</td>\n",
       "      <td>-87</td>\n",
       "      <td>-100</td>\n",
       "      <td>-100</td>\n",
       "      <td>modarag</td>\n",
       "    </tr>\n",
       "    <tr>\n",
       "      <th>959</th>\n",
       "      <td>-90</td>\n",
       "      <td>-100</td>\n",
       "      <td>-100</td>\n",
       "      <td>-76</td>\n",
       "      <td>-100</td>\n",
       "      <td>-100</td>\n",
       "      <td>modarag</td>\n",
       "    </tr>\n",
       "  </tbody>\n",
       "</table>\n",
       "<p>960 rows × 7 columns</p>\n",
       "</div>"
      ],
      "text/plain": [
       "      MO  EL-lab  El-modarag  Hew  WE_99EDC6  medhat     location\n",
       "0   -100    -100         -63  -62       -100    -100  modarag_cor\n",
       "1   -100    -100         -64  -63       -100    -100  modarag_cor\n",
       "2   -100    -100         -79  -61       -100     -85  modarag_cor\n",
       "3   -100    -100         -68  -65       -100     -86  modarag_cor\n",
       "4   -100    -100         -71  -51       -100     -88  modarag_cor\n",
       "..   ...     ...         ...  ...        ...     ...          ...\n",
       "955 -100    -100        -100  -86       -100    -100      modarag\n",
       "956 -100    -100        -100  -78       -100    -100      modarag\n",
       "957 -100    -100         -52  -90       -100    -100      modarag\n",
       "958  -89    -100         -57  -87       -100    -100      modarag\n",
       "959  -90    -100        -100  -76       -100    -100      modarag\n",
       "\n",
       "[960 rows x 7 columns]"
      ]
     },
     "execution_count": 95,
     "metadata": {},
     "output_type": "execute_result"
    }
   ],
   "source": [
    "df"
   ]
  },
  {
   "cell_type": "code",
   "execution_count": 96,
   "id": "0938bb56",
   "metadata": {},
   "outputs": [],
   "source": [
    "X = df.iloc[:, 0:-1].values\n",
    "y = df.iloc[:, -1].values"
   ]
  },
  {
   "cell_type": "code",
   "execution_count": 97,
   "id": "a8f1e229",
   "metadata": {},
   "outputs": [
    {
     "name": "stdout",
     "output_type": "stream",
     "text": [
      "[[-100 -100  -63  -62 -100 -100]\n",
      " [-100 -100  -64  -63 -100 -100]\n",
      " [-100 -100  -79  -61 -100  -85]\n",
      " ...\n",
      " [-100 -100  -52  -90 -100 -100]\n",
      " [ -89 -100  -57  -87 -100 -100]\n",
      " [ -90 -100 -100  -76 -100 -100]] ['modarag_cor' 'modarag_cor' 'modarag_cor' 'modarag_cor' 'modarag_cor'\n",
      " 'modarag_cor' 'modarag_cor' 'modarag_cor' 'modarag_cor' 'modarag_cor'\n",
      " 'modarag_cor' 'modarag_cor' 'modarag_cor' 'modarag_cor' 'modarag_cor'\n",
      " 'modarag_cor' 'modarag_cor' 'modarag_cor' 'modarag_cor' 'modarag_cor'\n",
      " 'modarag_cor' 'modarag_cor' 'modarag_cor' 'modarag_cor' 'modarag_cor'\n",
      " 'modarag_cor' 'modarag_cor' 'modarag_cor' 'modarag_cor' 'modarag_cor'\n",
      " 'modarag_cor' 'modarag_cor' 'modarag_cor' 'modarag_cor' 'modarag_cor'\n",
      " 'modarag_cor' 'modarag_cor' 'modarag_cor' 'modarag_cor' 'modarag_cor'\n",
      " 'modarag_cor' 'modarag_cor' 'modarag_cor' 'modarag_cor' 'modarag_cor'\n",
      " 'modarag_cor' 'modarag_cor' 'modarag_cor' 'modarag_cor' 'modarag_cor'\n",
      " 'modarag_cor' 'modarag_cor' 'modarag_cor' 'modarag_cor' 'modarag_cor'\n",
      " 'modarag_cor' 'modarag_cor' 'modarag_cor' 'modarag_cor' 'modarag_cor'\n",
      " 'modarag_cor' 'modarag_cor' 'modarag_cor' 'modarag_cor' 'modarag_cor'\n",
      " 'modarag_cor' 'modarag_cor' 'modarag_cor' 'modarag_cor' 'modarag_cor'\n",
      " 'modarag_cor' 'modarag_cor' 'modarag_cor' 'modarag_cor' 'modarag_cor'\n",
      " 'modarag_cor' 'modarag_cor' 'modarag_cor' 'modarag_cor' 'modarag_cor'\n",
      " 'modarag_cor' 'modarag_cor' 'modarag_cor' 'modarag_cor' 'modarag_cor'\n",
      " 'modarag_cor' 'modarag_cor' 'modarag_cor' 'modarag_cor' 'modarag_cor'\n",
      " 'modarag_cor' 'modarag_cor' 'modarag_cor' 'modarag_cor' 'modarag_cor'\n",
      " 'modarag_cor' 'modarag_cor' 'modarag_cor' 'modarag_cor' 'modarag_cor'\n",
      " 'modarag_cor' 'modarag_cor' 'modarag_cor' 'modarag_cor' 'modarag_cor'\n",
      " 'modarag_cor' 'modarag_cor' 'modarag_cor' 'modarag_cor' 'modarag_cor'\n",
      " 'modarag_cor' 'modarag_cor' 'modarag_cor' 'modarag_cor' 'modarag_cor'\n",
      " 'modarag_cor' 'modarag_cor' 'modarag_cor' 'modarag_cor' 'modarag_cor'\n",
      " 'cor_1' 'cor_1' 'cor_1' 'cor_1' 'cor_1' 'cor_1' 'cor_1' 'cor_1' 'cor_1'\n",
      " 'cor_1' 'cor_1' 'cor_1' 'cor_1' 'cor_1' 'cor_1' 'cor_1' 'cor_1' 'cor_1'\n",
      " 'cor_1' 'cor_1' 'cor_1' 'cor_1' 'cor_1' 'cor_1' 'cor_1' 'cor_1' 'cor_1'\n",
      " 'cor_1' 'cor_1' 'cor_1' 'cor_1' 'cor_1' 'cor_1' 'cor_1' 'cor_1' 'cor_1'\n",
      " 'cor_1' 'cor_1' 'cor_1' 'cor_1' 'cor_1' 'cor_1' 'cor_1' 'cor_1' 'cor_1'\n",
      " 'cor_1' 'cor_1' 'cor_1' 'cor_1' 'cor_1' 'cor_1' 'cor_1' 'cor_1' 'cor_1'\n",
      " 'cor_1' 'cor_1' 'cor_1' 'cor_1' 'cor_1' 'cor_1' 'cor_1' 'cor_1' 'cor_1'\n",
      " 'cor_1' 'cor_1' 'cor_1' 'cor_1' 'cor_1' 'cor_1' 'cor_1' 'cor_1' 'cor_1'\n",
      " 'cor_1' 'cor_1' 'cor_1' 'cor_1' 'cor_1' 'cor_1' 'cor_1' 'cor_1' 'cor_1'\n",
      " 'cor_1' 'cor_1' 'cor_1' 'cor_1' 'cor_1' 'cor_1' 'cor_1' 'cor_1' 'cor_1'\n",
      " 'cor_1' 'cor_1' 'cor_1' 'cor_1' 'cor_1' 'cor_1' 'cor_1' 'cor_1' 'cor_1'\n",
      " 'cor_1' 'cor_1' 'cor_1' 'cor_1' 'cor_1' 'cor_1' 'cor_1' 'cor_1' 'cor_1'\n",
      " 'cor_1' 'cor_1' 'cor_1' 'cor_1' 'cor_1' 'cor_1' 'cor_1' 'cor_1' 'cor_1'\n",
      " 'cor_1' 'cor_1' 'cor_1' 'cor_2' 'cor_2' 'cor_2' 'cor_2' 'cor_2' 'cor_2'\n",
      " 'cor_2' 'cor_2' 'cor_2' 'cor_2' 'cor_2' 'cor_2' 'cor_2' 'cor_2' 'cor_2'\n",
      " 'cor_2' 'cor_2' 'cor_2' 'cor_2' 'cor_2' 'cor_2' 'cor_2' 'cor_2' 'cor_2'\n",
      " 'cor_2' 'cor_2' 'cor_2' 'cor_2' 'cor_2' 'cor_2' 'cor_2' 'cor_2' 'cor_2'\n",
      " 'cor_2' 'cor_2' 'cor_2' 'cor_2' 'cor_2' 'cor_2' 'cor_2' 'cor_2' 'cor_2'\n",
      " 'cor_2' 'cor_2' 'cor_2' 'cor_2' 'cor_2' 'cor_2' 'cor_2' 'cor_2' 'cor_2'\n",
      " 'cor_2' 'cor_2' 'cor_2' 'cor_2' 'cor_2' 'cor_2' 'cor_2' 'cor_2' 'cor_2'\n",
      " 'cor_2' 'cor_2' 'cor_2' 'cor_2' 'cor_2' 'cor_2' 'cor_2' 'cor_2' 'cor_2'\n",
      " 'cor_2' 'cor_2' 'cor_2' 'cor_2' 'cor_2' 'cor_2' 'cor_2' 'cor_2' 'cor_2'\n",
      " 'cor_2' 'cor_2' 'cor_2' 'cor_2' 'cor_2' 'cor_2' 'cor_2' 'cor_2' 'cor_2'\n",
      " 'cor_2' 'cor_2' 'cor_2' 'cor_2' 'cor_2' 'cor_2' 'cor_2' 'cor_2' 'cor_2'\n",
      " 'cor_2' 'cor_2' 'cor_2' 'cor_2' 'cor_2' 'cor_2' 'cor_2' 'cor_2' 'cor_2'\n",
      " 'cor_2' 'cor_2' 'cor_2' 'cor_2' 'cor_2' 'cor_2' 'cor_2' 'cor_2' 'cor_2'\n",
      " 'cor_2' 'cor_2' 'cor_2' 'cor_2' 'cor_2' 'cor_2' 'cor_3' 'cor_3' 'cor_3'\n",
      " 'cor_3' 'cor_3' 'cor_3' 'cor_3' 'cor_3' 'cor_3' 'cor_3' 'cor_3' 'cor_3'\n",
      " 'cor_3' 'cor_3' 'cor_3' 'cor_3' 'cor_3' 'cor_3' 'cor_3' 'cor_3' 'cor_3'\n",
      " 'cor_3' 'cor_3' 'cor_3' 'cor_3' 'cor_3' 'cor_3' 'cor_3' 'cor_3' 'cor_3'\n",
      " 'cor_3' 'cor_3' 'cor_3' 'cor_3' 'cor_3' 'cor_3' 'cor_3' 'cor_3' 'cor_3'\n",
      " 'cor_3' 'cor_3' 'cor_3' 'cor_3' 'cor_3' 'cor_3' 'cor_3' 'cor_3' 'cor_3'\n",
      " 'cor_3' 'cor_3' 'cor_3' 'cor_3' 'cor_3' 'cor_3' 'cor_3' 'cor_3' 'cor_3'\n",
      " 'cor_3' 'cor_3' 'cor_3' 'cor_3' 'cor_3' 'cor_3' 'cor_3' 'cor_3' 'cor_3'\n",
      " 'cor_3' 'cor_3' 'cor_3' 'cor_3' 'cor_3' 'cor_3' 'cor_3' 'cor_3' 'cor_3'\n",
      " 'cor_3' 'cor_3' 'cor_3' 'cor_3' 'cor_3' 'cor_3' 'cor_3' 'cor_3' 'cor_3'\n",
      " 'cor_3' 'cor_3' 'cor_3' 'cor_3' 'cor_3' 'cor_3' 'cor_3' 'cor_3' 'cor_3'\n",
      " 'cor_3' 'cor_3' 'cor_3' 'cor_3' 'cor_3' 'cor_3' 'cor_3' 'cor_3' 'cor_3'\n",
      " 'cor_3' 'cor_3' 'cor_3' 'cor_3' 'cor_3' 'cor_3' 'cor_3' 'cor_3' 'cor_3'\n",
      " 'cor_3' 'cor_3' 'cor_3' 'cor_3' 'cor_3' 'cor_3' 'cor_3' 'cor_3'\n",
      " 'doctors_room' 'doctors_room' 'doctors_room' 'doctors_room'\n",
      " 'doctors_room' 'doctors_room' 'doctors_room' 'doctors_room'\n",
      " 'doctors_room' 'doctors_room' 'doctors_room' 'doctors_room'\n",
      " 'doctors_room' 'doctors_room' 'doctors_room' 'doctors_room'\n",
      " 'doctors_room' 'doctors_room' 'doctors_room' 'doctors_room'\n",
      " 'doctors_room' 'doctors_room' 'doctors_room' 'doctors_room'\n",
      " 'doctors_room' 'doctors_room' 'doctors_room' 'doctors_room'\n",
      " 'doctors_room' 'doctors_room' 'doctors_room' 'doctors_room'\n",
      " 'doctors_room' 'doctors_room' 'doctors_room' 'doctors_room'\n",
      " 'doctors_room' 'doctors_room' 'doctors_room' 'doctors_room'\n",
      " 'doctors_room' 'doctors_room' 'doctors_room' 'doctors_room'\n",
      " 'doctors_room' 'doctors_room' 'doctors_room' 'doctors_room'\n",
      " 'doctors_room' 'doctors_room' 'doctors_room' 'doctors_room'\n",
      " 'doctors_room' 'doctors_room' 'doctors_room' 'doctors_room'\n",
      " 'doctors_room' 'doctors_room' 'doctors_room' 'doctors_room'\n",
      " 'doctors_room' 'doctors_room' 'doctors_room' 'doctors_room'\n",
      " 'doctors_room' 'doctors_room' 'doctors_room' 'doctors_room'\n",
      " 'doctors_room' 'doctors_room' 'doctors_room' 'doctors_room'\n",
      " 'doctors_room' 'doctors_room' 'doctors_room' 'doctors_room'\n",
      " 'doctors_room' 'doctors_room' 'doctors_room' 'doctors_room'\n",
      " 'doctors_room' 'doctors_room' 'doctors_room' 'doctors_room'\n",
      " 'doctors_room' 'doctors_room' 'doctors_room' 'doctors_room'\n",
      " 'doctors_room' 'doctors_room' 'doctors_room' 'doctors_room'\n",
      " 'doctors_room' 'doctors_room' 'doctors_room' 'doctors_room'\n",
      " 'doctors_room' 'doctors_room' 'doctors_room' 'doctors_room'\n",
      " 'doctors_room' 'doctors_room' 'doctors_room' 'doctors_room'\n",
      " 'doctors_room' 'doctors_room' 'doctors_room' 'doctors_room'\n",
      " 'doctors_room' 'doctors_room' 'doctors_room' 'doctors_room'\n",
      " 'doctors_room' 'doctors_room' 'doctors_room' 'doctors_room'\n",
      " 'doctors_room' 'doctors_room' 'doctors_room' 'doctors_room' 'lab_1'\n",
      " 'lab_1' 'lab_1' 'lab_1' 'lab_1' 'lab_1' 'lab_1' 'lab_1' 'lab_1' 'lab_1'\n",
      " 'lab_1' 'lab_1' 'lab_1' 'lab_1' 'lab_1' 'lab_1' 'lab_1' 'lab_1' 'lab_1'\n",
      " 'lab_1' 'lab_1' 'lab_1' 'lab_1' 'lab_1' 'lab_1' 'lab_1' 'lab_1' 'lab_1'\n",
      " 'lab_1' 'lab_1' 'lab_1' 'lab_1' 'lab_1' 'lab_1' 'lab_1' 'lab_1' 'lab_1'\n",
      " 'lab_1' 'lab_1' 'lab_1' 'lab_1' 'lab_1' 'lab_1' 'lab_1' 'lab_1' 'lab_1'\n",
      " 'lab_1' 'lab_1' 'lab_1' 'lab_1' 'lab_1' 'lab_1' 'lab_1' 'lab_1' 'lab_1'\n",
      " 'lab_1' 'lab_1' 'lab_1' 'lab_1' 'lab_1' 'lab_1' 'lab_1' 'lab_1' 'lab_1'\n",
      " 'lab_1' 'lab_1' 'lab_1' 'lab_1' 'lab_1' 'lab_1' 'lab_1' 'lab_1' 'lab_1'\n",
      " 'lab_1' 'lab_1' 'lab_1' 'lab_1' 'lab_1' 'lab_1' 'lab_1' 'lab_1' 'lab_1'\n",
      " 'lab_1' 'lab_1' 'lab_1' 'lab_1' 'lab_1' 'lab_1' 'lab_1' 'lab_1' 'lab_1'\n",
      " 'lab_1' 'lab_1' 'lab_1' 'lab_1' 'lab_1' 'lab_1' 'lab_1' 'lab_1' 'lab_1'\n",
      " 'lab_1' 'lab_1' 'lab_1' 'lab_1' 'lab_1' 'lab_1' 'lab_1' 'lab_1' 'lab_1'\n",
      " 'lab_1' 'lab_1' 'lab_1' 'lab_1' 'lab_1' 'lab_1' 'lab_1' 'lab_1' 'lab_1'\n",
      " 'lab_1' 'lab_1' 'lab_1' 'lab_2' 'lab_2' 'lab_2' 'lab_2' 'lab_2' 'lab_2'\n",
      " 'lab_2' 'lab_2' 'lab_2' 'lab_2' 'lab_2' 'lab_2' 'lab_2' 'lab_2' 'lab_2'\n",
      " 'lab_2' 'lab_2' 'lab_2' 'lab_2' 'lab_2' 'lab_2' 'lab_2' 'lab_2' 'lab_2'\n",
      " 'lab_2' 'lab_2' 'lab_2' 'lab_2' 'lab_2' 'lab_2' 'lab_2' 'lab_2' 'lab_2'\n",
      " 'lab_2' 'lab_2' 'lab_2' 'lab_2' 'lab_2' 'lab_2' 'lab_2' 'lab_2' 'lab_2'\n",
      " 'lab_2' 'lab_2' 'lab_2' 'lab_2' 'lab_2' 'lab_2' 'lab_2' 'lab_2' 'lab_2'\n",
      " 'lab_2' 'lab_2' 'lab_2' 'lab_2' 'lab_2' 'lab_2' 'lab_2' 'lab_2' 'lab_2'\n",
      " 'lab_2' 'lab_2' 'lab_2' 'lab_2' 'lab_2' 'lab_2' 'lab_2' 'lab_2' 'lab_2'\n",
      " 'lab_2' 'lab_2' 'lab_2' 'lab_2' 'lab_2' 'lab_2' 'lab_2' 'lab_2' 'lab_2'\n",
      " 'lab_2' 'lab_2' 'lab_2' 'lab_2' 'lab_2' 'lab_2' 'lab_2' 'lab_2' 'lab_2'\n",
      " 'lab_2' 'lab_2' 'lab_2' 'lab_2' 'lab_2' 'lab_2' 'lab_2' 'lab_2' 'lab_2'\n",
      " 'lab_2' 'lab_2' 'lab_2' 'lab_2' 'lab_2' 'lab_2' 'lab_2' 'lab_2' 'lab_2'\n",
      " 'lab_2' 'lab_2' 'lab_2' 'lab_2' 'lab_2' 'lab_2' 'lab_2' 'lab_2' 'lab_2'\n",
      " 'lab_2' 'lab_2' 'lab_2' 'lab_2' 'lab_2' 'lab_2' 'modarag' 'modarag'\n",
      " 'modarag' 'modarag' 'modarag' 'modarag' 'modarag' 'modarag' 'modarag'\n",
      " 'modarag' 'modarag' 'modarag' 'modarag' 'modarag' 'modarag' 'modarag'\n",
      " 'modarag' 'modarag' 'modarag' 'modarag' 'modarag' 'modarag' 'modarag'\n",
      " 'modarag' 'modarag' 'modarag' 'modarag' 'modarag' 'modarag' 'modarag'\n",
      " 'modarag' 'modarag' 'modarag' 'modarag' 'modarag' 'modarag' 'modarag'\n",
      " 'modarag' 'modarag' 'modarag' 'modarag' 'modarag' 'modarag' 'modarag'\n",
      " 'modarag' 'modarag' 'modarag' 'modarag' 'modarag' 'modarag' 'modarag'\n",
      " 'modarag' 'modarag' 'modarag' 'modarag' 'modarag' 'modarag' 'modarag'\n",
      " 'modarag' 'modarag' 'modarag' 'modarag' 'modarag' 'modarag' 'modarag'\n",
      " 'modarag' 'modarag' 'modarag' 'modarag' 'modarag' 'modarag' 'modarag'\n",
      " 'modarag' 'modarag' 'modarag' 'modarag' 'modarag' 'modarag' 'modarag'\n",
      " 'modarag' 'modarag' 'modarag' 'modarag' 'modarag' 'modarag' 'modarag'\n",
      " 'modarag' 'modarag' 'modarag' 'modarag' 'modarag' 'modarag' 'modarag'\n",
      " 'modarag' 'modarag' 'modarag' 'modarag' 'modarag' 'modarag' 'modarag'\n",
      " 'modarag' 'modarag' 'modarag' 'modarag' 'modarag' 'modarag' 'modarag'\n",
      " 'modarag' 'modarag' 'modarag' 'modarag' 'modarag' 'modarag' 'modarag'\n",
      " 'modarag' 'modarag' 'modarag' 'modarag' 'modarag' 'modarag']\n",
      "960 960\n"
     ]
    }
   ],
   "source": [
    "print(X,y)\n",
    "print(len(X),len(y))"
   ]
  },
  {
   "cell_type": "code",
   "execution_count": 98,
   "id": "f4c0c709",
   "metadata": {},
   "outputs": [
    {
     "name": "stdout",
     "output_type": "stream",
     "text": [
      "(960, 6) (960,)\n"
     ]
    }
   ],
   "source": [
    "print((X.shape),(y.shape))"
   ]
  },
  {
   "cell_type": "code",
   "execution_count": 99,
   "id": "8842bdf7",
   "metadata": {},
   "outputs": [
    {
     "name": "stdout",
     "output_type": "stream",
     "text": [
      "[-100 -100  -63  -62 -100 -100]\n"
     ]
    }
   ],
   "source": [
    "print(X[0])"
   ]
  },
  {
   "cell_type": "code",
   "execution_count": 100,
   "id": "9b74a5e6",
   "metadata": {},
   "outputs": [],
   "source": [
    "X_train, X_test, y_train, y_test = train_test_split(X, y, test_size=0.2, random_state=42)"
   ]
  },
  {
   "cell_type": "code",
   "execution_count": 101,
   "id": "ddf1d408",
   "metadata": {},
   "outputs": [
    {
     "name": "stdout",
     "output_type": "stream",
     "text": [
      "768 768\n",
      "192 192\n"
     ]
    }
   ],
   "source": [
    "print(len(X_train), len(y_train))\n",
    "print(len(X_test), len(y_test))"
   ]
  },
  {
   "cell_type": "code",
   "execution_count": 102,
   "id": "8d7dfb0f",
   "metadata": {},
   "outputs": [
    {
     "data": {
      "text/plain": [
       "lab_2           103\n",
       "cor_1           101\n",
       "cor_3           101\n",
       "modarag_cor      98\n",
       "cor_2            93\n",
       "lab_1            92\n",
       "modarag          91\n",
       "doctors_room     89\n",
       "dtype: int64"
      ]
     },
     "execution_count": 102,
     "metadata": {},
     "output_type": "execute_result"
    }
   ],
   "source": [
    "# Check Balancing \n",
    "pd.Series(y_train).value_counts()"
   ]
  },
  {
   "cell_type": "code",
   "execution_count": 103,
   "id": "8ef61e01",
   "metadata": {},
   "outputs": [
    {
     "name": "stdout",
     "output_type": "stream",
     "text": [
      "(768, 6)\n",
      "(768,)\n",
      "(192, 6)\n",
      "(192,)\n"
     ]
    }
   ],
   "source": [
    "print(X_train.shape)\n",
    "print(y_train.shape)\n",
    "print(X_test.shape)\n",
    "print(y_test.shape)"
   ]
  },
  {
   "cell_type": "code",
   "execution_count": 104,
   "id": "75275124",
   "metadata": {},
   "outputs": [],
   "source": [
    "classifiers = {\n",
    "    'knn': KNeighborsClassifier(5),\n",
    "    'NB': GaussianNB(),\n",
    "    'tree': DecisionTreeClassifier(max_depth=10),\n",
    "    'forest': RandomForestClassifier(n_estimators=10, max_depth=10),\n",
    "    'SV': SVC(probability=True, gamma=0.001),\n",
    "    'LR': LogisticRegression(solver='newton-cg', max_iter=400)\n",
    "}"
   ]
  },
  {
   "cell_type": "code",
   "execution_count": 105,
   "id": "18abb118",
   "metadata": {},
   "outputs": [
    {
     "name": "stdout",
     "output_type": "stream",
     "text": [
      "Training knn model .. \n",
      "test_f1_weighted 0.8622526447449487\n",
      "test_roc_auc_ovr 0.9749437128753894\n",
      "test_precicison 0.8688682899905373\n",
      "test_recall 0.8646903820816866\n",
      "accuracy 0.8646903820816866\n",
      "\n",
      "\n",
      "Training NB model .. \n"
     ]
    },
    {
     "name": "stderr",
     "output_type": "stream",
     "text": [
      "c:\\users\\mariam\\appdata\\local\\programs\\python\\python39\\lib\\site-packages\\sklearn\\metrics\\_classification.py:1245: UndefinedMetricWarning: Precision is ill-defined and being set to 0.0 in labels with no predicted samples. Use `zero_division` parameter to control this behavior.\n",
      "  _warn_prf(average, modifier, msg_start, len(result))\n",
      "c:\\users\\mariam\\appdata\\local\\programs\\python\\python39\\lib\\site-packages\\sklearn\\metrics\\_classification.py:1245: UndefinedMetricWarning: Precision is ill-defined and being set to 0.0 in labels with no predicted samples. Use `zero_division` parameter to control this behavior.\n",
      "  _warn_prf(average, modifier, msg_start, len(result))\n",
      "c:\\users\\mariam\\appdata\\local\\programs\\python\\python39\\lib\\site-packages\\sklearn\\metrics\\_classification.py:1245: UndefinedMetricWarning: Precision is ill-defined and being set to 0.0 in labels with no predicted samples. Use `zero_division` parameter to control this behavior.\n",
      "  _warn_prf(average, modifier, msg_start, len(result))\n",
      "c:\\users\\mariam\\appdata\\local\\programs\\python\\python39\\lib\\site-packages\\sklearn\\metrics\\_classification.py:1245: UndefinedMetricWarning: Precision is ill-defined and being set to 0.0 in labels with no predicted samples. Use `zero_division` parameter to control this behavior.\n",
      "  _warn_prf(average, modifier, msg_start, len(result))\n",
      "c:\\users\\mariam\\appdata\\local\\programs\\python\\python39\\lib\\site-packages\\sklearn\\metrics\\_classification.py:1245: UndefinedMetricWarning: Precision is ill-defined and being set to 0.0 in labels with no predicted samples. Use `zero_division` parameter to control this behavior.\n",
      "  _warn_prf(average, modifier, msg_start, len(result))\n",
      "c:\\users\\mariam\\appdata\\local\\programs\\python\\python39\\lib\\site-packages\\sklearn\\metrics\\_classification.py:1245: UndefinedMetricWarning: Precision is ill-defined and being set to 0.0 in labels with no predicted samples. Use `zero_division` parameter to control this behavior.\n",
      "  _warn_prf(average, modifier, msg_start, len(result))\n"
     ]
    },
    {
     "name": "stdout",
     "output_type": "stream",
     "text": [
      "test_f1_weighted 0.6328506377141996\n",
      "test_roc_auc_ovr 0.9564641993799228\n",
      "test_precicison 0.717158332660413\n",
      "test_recall 0.6718991153773763\n",
      "accuracy 0.6718991153773763\n",
      "\n",
      "\n",
      "Training tree model .. \n",
      "test_f1_weighted 0.8677560052941051\n",
      "test_roc_auc_ovr 0.953766201257627\n",
      "test_precicison 0.8818822311072453\n",
      "test_recall 0.8685676642198381\n",
      "accuracy 0.8685676642198381\n",
      "\n",
      "\n",
      "Training forest model .. \n",
      "test_f1_weighted 0.8852262703134113\n",
      "test_roc_auc_ovr 0.9900304297809732\n",
      "test_precicison 0.8938988687661755\n",
      "test_recall 0.8854884246188593\n",
      "accuracy 0.8854884246188593\n",
      "\n",
      "\n",
      "Training SV model .. \n",
      "test_f1_weighted 0.8828809139180909\n",
      "test_roc_auc_ovr 0.9908163504162082\n",
      "test_precicison 0.8923048379668933\n",
      "test_recall 0.8854884246188593\n",
      "accuracy 0.8854884246188593\n",
      "\n",
      "\n",
      "Training LR model .. \n",
      "test_f1_weighted 0.7852031959259907\n",
      "test_roc_auc_ovr 0.9774567244354393\n",
      "test_precicison 0.7984269980599737\n",
      "test_recall 0.7865424430641823\n",
      "accuracy 0.7865424430641823\n",
      "\n",
      "\n"
     ]
    }
   ],
   "source": [
    "# Metrics \n",
    "metrics = ['accuracy', 'f1_weighted', 'roc_auc_ovr_weighted', 'precision_weighted', 'recall_weighted']\n",
    "# metrics = ['accuracy', 'f1_weighted']\n",
    "\n",
    "# Cross Validate the models \n",
    "scores = {}\n",
    "for name, clf in classifiers.items():\n",
    "    print(f'Training {name} model .. ')\n",
    "    res = cross_validate(clf, X_train, y_train, cv=11, scoring=metrics, return_estimator=True)\n",
    "#     print(res)\n",
    "    \n",
    "    score = {\"test_f1_weighted\": np.mean(res['test_f1_weighted']), \n",
    "             'test_roc_auc_ovr_weighted': np.mean(res['test_roc_auc_ovr_weighted']), \n",
    "             'test_precision_weighted': np.mean(res['test_precision_weighted']),\n",
    "             'test_recall_weighted': np.mean(res['test_recall_weighted']),\n",
    "             'test_accuracy': np.mean(res['test_accuracy']),\n",
    "             'estimator': res['estimator'][0]\n",
    "            }\n",
    "    \n",
    "    print(\"test_f1_weighted\", score['test_f1_weighted'])\n",
    "    print('test_roc_auc_ovr', score['test_roc_auc_ovr_weighted'])\n",
    "    print('test_precicison', score['test_precision_weighted'])\n",
    "    print('test_recall', score['test_recall_weighted'])\n",
    "    print('accuracy', score['test_accuracy'])\n",
    "    print('\\n')\n",
    "    \n",
    "    # Add each model`s scores to scores\n",
    "    scores[name] = score"
   ]
  },
  {
   "cell_type": "code",
   "execution_count": 106,
   "id": "22067455",
   "metadata": {},
   "outputs": [],
   "source": [
    "model = RandomForestClassifier(n_estimators=200, random_state=0)\n",
    "# model = DecisionTreeClassifier(max_depth=10)\n",
    "# model =SVC(probability=True, gamma=0.001)\n",
    "history = model.fit(X_train, y_train)\n",
    "# print(history)"
   ]
  },
  {
   "cell_type": "code",
   "execution_count": 107,
   "id": "0458c96b",
   "metadata": {},
   "outputs": [
    {
     "name": "stdout",
     "output_type": "stream",
     "text": [
      "prediction =      ['modarag']\n",
      "0.8854166666666666\n"
     ]
    }
   ],
   "source": [
    "    y_pred = model.predict([X_test[0]])\n",
    "    print(\"prediction =     \", y_pred)\n",
    "#     print(list(y_test.values))\n",
    "\n",
    "    print(model.score(X_test, y_test))"
   ]
  },
  {
   "cell_type": "code",
   "execution_count": 108,
   "id": "3de00ab6",
   "metadata": {},
   "outputs": [
    {
     "name": "stdout",
     "output_type": "stream",
     "text": [
      "['modarag']\n"
     ]
    }
   ],
   "source": [
    "print(model.predict(X_test[0].reshape(1, -1)))"
   ]
  },
  {
   "cell_type": "code",
   "execution_count": 88,
   "id": "803d4056",
   "metadata": {},
   "outputs": [
    {
     "name": "stdout",
     "output_type": "stream",
     "text": [
      "[-100 -100  -60  -86 -100 -100]\n"
     ]
    }
   ],
   "source": [
    "print(X_test[0])"
   ]
  },
  {
   "cell_type": "code",
   "execution_count": 89,
   "id": "20b278ba",
   "metadata": {},
   "outputs": [],
   "source": [
    "import pickle\n",
    "# save the model to disk\n",
    "filename = 'finalized_model_99.joblib'\n",
    "pickle.dump(model, open(filename, 'wb'))"
   ]
  },
  {
   "cell_type": "code",
   "execution_count": 75,
   "id": "a2f60bf7",
   "metadata": {},
   "outputs": [],
   "source": [
    "with open('testing-arrays.npy', 'wb') as f:\n",
    "    np.save(f, X_test)\n",
    "    np.save(f, y_test)"
   ]
  },
  {
   "cell_type": "code",
   "execution_count": 37,
   "id": "f42382df",
   "metadata": {},
   "outputs": [
    {
     "name": "stdout",
     "output_type": "stream",
     "text": [
      "<class 'numpy.ndarray'>\n",
      "(54,)\n",
      "int64\n",
      "------------------------------------------------------------\n",
      "<class 'numpy.ndarray'>\n",
      "(54,)\n",
      "int64\n"
     ]
    }
   ],
   "source": [
    "with open('testing-arrays.npy', 'rb') as f:\n",
    "    X_test = np.load(f)\n",
    "    X_test = np.load(f)\n",
    "\n",
    "print(type(X_test))\n",
    "print(X_test.shape)\n",
    "print(X_test.dtype)\n",
    "\n",
    "print('-'*60)\n",
    "\n",
    "print(type(y_test))\n",
    "print(y_test.shape)\n",
    "print(y_test.dtype)"
   ]
  },
  {
   "cell_type": "code",
   "execution_count": null,
   "id": "903bcfc9",
   "metadata": {},
   "outputs": [],
   "source": []
  },
  {
   "cell_type": "code",
   "execution_count": null,
   "id": "02bdd343",
   "metadata": {},
   "outputs": [],
   "source": []
  }
 ],
 "metadata": {
  "kernelspec": {
   "display_name": "Python 3 (ipykernel)",
   "language": "python",
   "name": "python3"
  },
  "language_info": {
   "codemirror_mode": {
    "name": "ipython",
    "version": 3
   },
   "file_extension": ".py",
   "mimetype": "text/x-python",
   "name": "python",
   "nbconvert_exporter": "python",
   "pygments_lexer": "ipython3",
   "version": "3.9.1"
  }
 },
 "nbformat": 4,
 "nbformat_minor": 5
}
